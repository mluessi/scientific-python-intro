{
 "metadata": {
  "name": ""
 },
 "nbformat": 3,
 "nbformat_minor": 0,
 "worksheets": [
  {
   "cells": [
    {
     "cell_type": "code",
     "collapsed": false,
     "input": [
      "# import some things\n",
      "%pylab --no-import-all inline\n",
      "import numpy as np\n",
      "import pylab as pl\n",
      "from scipy import linalg"
     ],
     "language": "python",
     "metadata": {},
     "outputs": [
      {
       "output_type": "stream",
       "stream": "stdout",
       "text": [
        "Populating the interactive namespace from numpy and matplotlib\n"
       ]
      }
     ],
     "prompt_number": 180
    },
    {
     "cell_type": "markdown",
     "metadata": {
      "slideshow": {
       "slide_type": "slide"
      }
     },
     "source": [
      "Python for Scientific Computing\n",
      "===============================\n",
      "\n",
      "<img src=\"http://www.python.org/images/python-logo.gif\">\n",
      "<img src=\"http://www.scipy.org/_static/images/scipy_med.png\">\n",
      "\n",
      "**Martin Luessi**\n",
      "\n",
      "**Martinos Center \"Why N' How\", September 19, 2013**"
     ]
    },
    {
     "cell_type": "markdown",
     "metadata": {
      "slideshow": {
       "slide_type": "slide"
      }
     },
     "source": [
      "What is Python and why would I use it?\n",
      "--------------------------------------\n",
      "\n",
      "- Python is an **intepreted high-level programming language**\n",
      "- Python is **free** (as in speech)\n",
      "- Python runs on most platforms\n",
      "- It [**\"combines remarkable power with very clear syntax\"**](http://docs.python.org/faq/general.html#what-is-python)\n",
      "- Well suited for **high performance numerical computing** (NumPy, ...)\n",
      "- High quality **2D and 3D visualizations** (pylab, mlab, ...)\n",
      "- Increasingly **popular in neuroscience** (nipy, nipype, nitime, ...)"
     ]
    },
    {
     "cell_type": "markdown",
     "metadata": {
      "slideshow": {
       "slide_type": "slide"
      }
     },
     "source": [
      "What you should be able to do after this talk\n",
      "---------------------------------------------\n",
      "\n",
      "- Start Python\n",
      "- Do simple math\n",
      "- Get started with linear algebra and scientific computing\n",
      "- Plot some nice figures"
     ]
    },
    {
     "cell_type": "markdown",
     "metadata": {
      "slideshow": {
       "slide_type": "slide"
      }
     },
     "source": [
      "Use Python for what?\n",
      "--------------------\n",
      "\n",
      "- Scripting (like shell scripts, e.g., bash, csh)\n",
      "- Make web sites\n",
      "- Build GUI applications\n",
      "- **Science** (like Matlab, IDL, R, Octave, Scilab)\n",
      "- Etc.\n",
      "\n",
      "**You just need to know one language to do almost anything !**\n"
     ]
    },
    {
     "cell_type": "markdown",
     "metadata": {
      "slideshow": {
       "slide_type": "slide"
      }
     },
     "source": [
      "Scientific Python building blocks\n",
      "---------------------------------\n",
      "\n",
      "* **Python interpreter**: executes Python code\n",
      "\n",
      "* [**IPython**](http://ipython.org): an advanced **Python shell**\n",
      "\n",
      "* [**NumPy**](http://www.numpy.org): provides **numerical array** objects\n",
      "\n",
      "* [**SciPy**](http://www.scipy.org/): scientific computing\n",
      "  (linear algebra, optimization, regression, etc.)\n",
      "\n",
      "* [**Matplotlib**](http://matplotlib.org) a.k.a. Pylab: 2-D visualization, \"publication-ready\" plots\n",
      "\n",
      "* [**Mayavi**](http://mayavi.sourceforge.net) : 3-D visualization\n",
      "\n",
      "* Many application specific packages for e.g., machine learning,\n",
      "  image processing, symbolic math, .. [incomplete list](http://www.scipy.org/Topical_Software)\n"
     ]
    },
    {
     "cell_type": "markdown",
     "metadata": {
      "slideshow": {
       "slide_type": "slide"
      }
     },
     "source": [
      "First Steps\n",
      "-----------\n",
      "\n",
      "Get a scientific-Python environment:\n",
      "\n",
      "* Comes with every Linux distribution\n",
      "* Python(x,y) on Windows: http://www.pythonxy.com\n",
      "* Enthought Canopy or EPD: http://www.enthought.com\n",
      "* Continuum Analytics Anaconda http://www.continuum.io\n",
      "* At the Martinos Center use the EPD based network installation, see [here](http://surfer.nmr.mgh.harvard.edu/fswiki/DevelopersGuide/NMRCenterPython/UsersGuide\n",
      ")\n",
      "\n",
      "Start the **IPython shell** (from terminal or Windows cmd shell):\n",
      "\n",
      "    $ ipython --pylab"
     ]
    },
    {
     "cell_type": "markdown",
     "metadata": {
      "slideshow": {
       "slide_type": "slide"
      }
     },
     "source": [
      "Hello world!\n",
      "------------\n",
      "\n",
      "The IPython Shell is an interactive shell:\n",
      "\n",
      "<img src=\"http://ipython.org/ipython-doc/stable/_images/colors_dark.png\" width=\"400\" height=\"400\"/>  \n",
      "\n",
      "Now we can write our \"Hello World\" program by typing:"
     ]
    },
    {
     "cell_type": "code",
     "collapsed": true,
     "input": [
      "s = \"Hello World!\"\n",
      "print s"
     ],
     "language": "python",
     "metadata": {
      "slideshow": {
       "slide_type": "fragment"
      }
     },
     "outputs": [
      {
       "output_type": "stream",
       "stream": "stdout",
       "text": [
        "Hello World!\n"
       ]
      }
     ],
     "prompt_number": 181
    },
    {
     "cell_type": "markdown",
     "metadata": {
      "slideshow": {
       "slide_type": "slide"
      }
     },
     "source": [
      "My first script\n",
      "---------------\n",
      "\n",
      "Let's say the file ``my_script.py`` contains:\n",
      "\n",
      "    s = 'Hello World!'\n",
      "    print s\n",
      "    \n",
      "In IPython you can run it as follows:"
     ]
    },
    {
     "cell_type": "code",
     "collapsed": false,
     "input": [
      "%run my_script.py"
     ],
     "language": "python",
     "metadata": {
      "slideshow": {
       "slide_type": "fragment"
      }
     },
     "outputs": [
      {
       "output_type": "stream",
       "stream": "stdout",
       "text": [
        "Hello World!\n"
       ]
      }
     ],
     "prompt_number": 182
    },
    {
     "cell_type": "markdown",
     "metadata": {
      "slideshow": {
       "slide_type": "slide"
      }
     },
     "source": [
      "If you are scared of the terminal\n",
      "---------------------------------\n",
      "\n",
      "You can use [**Spyder**](http://code.google.com/p/spyderlib), a scientific Python IDE.\n",
      "Or the [**IPython Notebook**](http://ipython.org/notebook.html)\n",
      "\n",
      "\n",
      "<div style=\"float: left\">\n",
      "<img src=\"http://wiki.spyderlib.googlecode.com/hg/Screenshots/spyder-linux_small.png\" width=\"420\"/>  \n",
      "</div>\n",
      "<div style=\"float: right\">\n",
      "<img src=\"http://ipython.org/_images/9_home_fperez_prof_grants_1207-sloan-ipython_proposal_fig_ipython-notebook-specgram.png\" width=\"420\"/>  \n",
      "</div>\n",
      "\n",
      "\n"
     ]
    },
    {
     "cell_type": "markdown",
     "metadata": {
      "slideshow": {
       "slide_type": "fragment"
      }
     },
     "source": [
      "Start the **IPython Notebook** as follows\n",
      "\n",
      "    $ ipython notebook --pylab=inline"
     ]
    },
    {
     "cell_type": "markdown",
     "metadata": {
      "slideshow": {
       "slide_type": "slide"
      }
     },
     "source": [
      "Python basics: Numerical types\n",
      "------------------------------\n",
      "\n",
      "Integer variables:\n",
      "\n",
      "    >>> 1 + 1\n",
      "    2\n",
      "    >>> a = 4\n",
      "\n",
      "floats:\n",
      "\n",
      "    >>> c = 2.1\n",
      "\n",
      "complex (a native type in Python!):\n",
      "\n",
      "    >>> a = 1.5 + 0.5j\n",
      "    >>> a.real\n",
      "    1.5\n",
      "    >>> a.imag\n",
      "    0.5"
     ]
    },
    {
     "cell_type": "markdown",
     "metadata": {
      "slideshow": {
       "slide_type": "slide"
      }
     },
     "source": [
      "Python basics: Numerical types\n",
      "------------------------------\n",
      "\n",
      "and booleans:\n",
      "\n",
      "    >>> 3 < 4\n",
      "    True\n",
      "    >>> test = (3 > 4)\n",
      "    >>> test\n",
      "    False\n",
      "    >>> type(test)\n",
      "    <type 'bool'>\n",
      "\n",
      "Note that **you don't need to specify the type** of the variable\n",
      "\n",
      "    int a = 1;  # in C"
     ]
    },
    {
     "cell_type": "markdown",
     "metadata": {
      "slideshow": {
       "slide_type": "slide"
      }
     },
     "source": [
      "Python basics: Numerical types\n",
      "------------------------------\n",
      "\n",
      "Python can replace your pocket calculator with : ``+``, ``-``, ``*``, ``/``, ``%`` (modulo)\n",
      "\n",
      "    >>> 7 * 3.\n",
      "    21.0\n",
      "    >>> 2**10\n",
      "    1024\n",
      "    >>> 8 % 3\n",
      "    2\n",
      "\n",
      "**WARNING** : Integer division\n",
      "\n",
      "    >>> 3 / 2  # !!!\n",
      "    1\n",
      "    >>> 3 / 2.  # Trick: use floats\n",
      "    1.5\n",
      "    >>> 3 / float(2)  # type conversion\n",
      "    1.5"
     ]
    },
    {
     "cell_type": "markdown",
     "metadata": {
      "slideshow": {
       "slide_type": "slide"
      }
     },
     "source": [
      "Strings\n",
      "-------"
     ]
    },
    {
     "cell_type": "code",
     "collapsed": false,
     "input": [
      "my_str = 'Hello World!'\n",
      "print my_str\n",
      "print my_str[0]"
     ],
     "language": "python",
     "metadata": {
      "slideshow": {
       "slide_type": "fragment"
      }
     },
     "outputs": [
      {
       "output_type": "stream",
       "stream": "stdout",
       "text": [
        "Hello World!\n",
        "H\n"
       ]
      }
     ],
     "prompt_number": 183
    },
    {
     "cell_type": "markdown",
     "metadata": {
      "slideshow": {
       "slide_type": "fragment"
      }
     },
     "source": [
      "**Notice**: Indexing in Python starts at zero (like in C)"
     ]
    },
    {
     "cell_type": "markdown",
     "metadata": {
      "slideshow": {
       "slide_type": "fragment"
      }
     },
     "source": [
      "Strings are **objects** with many useful **methods**:"
     ]
    },
    {
     "cell_type": "code",
     "collapsed": false,
     "input": [
      "print my_str.replace('World', 'Why N\\' How')\n",
      "print my_str.upper()"
     ],
     "language": "python",
     "metadata": {
      "slideshow": {
       "slide_type": "fragment"
      }
     },
     "outputs": [
      {
       "output_type": "stream",
       "stream": "stdout",
       "text": [
        "Hello Why N' How!\n",
        "HELLO WORLD!\n"
       ]
      }
     ],
     "prompt_number": 184
    },
    {
     "cell_type": "markdown",
     "metadata": {
      "slideshow": {
       "slide_type": "slide"
      }
     },
     "source": [
      "Container types: list\n",
      "---------------------\n",
      "\n",
      "An **ordered** container that can hold arbitrart Python objects"
     ]
    },
    {
     "cell_type": "code",
     "collapsed": false,
     "input": [
      "my_list = [1, 2, 3, 'test']   # Notice: [] creates a list\n",
      "print my_list"
     ],
     "language": "python",
     "metadata": {
      "slideshow": {
       "slide_type": "fragment"
      }
     },
     "outputs": [
      {
       "output_type": "stream",
       "stream": "stdout",
       "text": [
        "[1, 2, 3, 'test']\n"
       ]
      }
     ],
     "prompt_number": 185
    },
    {
     "cell_type": "markdown",
     "metadata": {
      "slideshow": {
       "slide_type": "fragment"
      }
     },
     "source": [
      "We can append and insert things"
     ]
    },
    {
     "cell_type": "code",
     "collapsed": false,
     "input": [
      "my_list.append('test2')\n",
      "print my_list\n",
      "my_list.insert(1, 0)\n",
      "print my_list\n"
     ],
     "language": "python",
     "metadata": {
      "slideshow": {
       "slide_type": "fragment"
      }
     },
     "outputs": [
      {
       "output_type": "stream",
       "stream": "stdout",
       "text": [
        "[1, 2, 3, 'test', 'test2']\n",
        "[1, 0, 2, 3, 'test', 'test2']\n"
       ]
      }
     ],
     "prompt_number": 186
    },
    {
     "cell_type": "markdown",
     "metadata": {
      "slideshow": {
       "slide_type": "slide"
      }
     },
     "source": [
      "Container types: list\n",
      "---------------------\n",
      "\n",
      "We can access elements using their index"
     ]
    },
    {
     "cell_type": "code",
     "collapsed": false,
     "input": [
      "print my_list\n",
      "print my_list[0]   # first element\n",
      "print my_list[-1]  # last element\n",
      "print my_list[-2]  # second last element\n"
     ],
     "language": "python",
     "metadata": {
      "slideshow": {
       "slide_type": "fragment"
      }
     },
     "outputs": [
      {
       "output_type": "stream",
       "stream": "stdout",
       "text": [
        "[1, 0, 2, 3, 'test', 'test2']\n",
        "1\n",
        "test2\n",
        "test\n"
       ]
      }
     ],
     "prompt_number": 187
    },
    {
     "cell_type": "markdown",
     "metadata": {
      "slideshow": {
       "slide_type": "slide"
      }
     },
     "source": [
      "Container types: list\n",
      "---------------------\n",
      "\n",
      "We can also use **slicing** to obtain sublists"
     ]
    },
    {
     "cell_type": "code",
     "collapsed": false,
     "input": [
      "print my_list\n",
      "print my_list[2:5]  # Notice: index 5 is not included"
     ],
     "language": "python",
     "metadata": {
      "slideshow": {
       "slide_type": "fragment"
      }
     },
     "outputs": [
      {
       "output_type": "stream",
       "stream": "stdout",
       "text": [
        "[1, 0, 2, 3, 'test', 'test2']\n",
        "[2, 3, 'test']\n"
       ]
      }
     ],
     "prompt_number": 188
    },
    {
     "cell_type": "markdown",
     "metadata": {
      "slideshow": {
       "slide_type": "fragment"
      }
     },
     "source": [
      "The slicing syntax is `l[start:stop:step]`. This can be very useful"
     ]
    },
    {
     "cell_type": "code",
     "collapsed": false,
     "input": [
      "print my_list[:3]   # first 3 elements\n",
      "print my_list[-3:]  # last 3 elements\n",
      "print my_list[::2]  # every 2nd element\n",
      "print my_list[::-1] # list with order reversed"
     ],
     "language": "python",
     "metadata": {
      "slideshow": {
       "slide_type": "fragment"
      }
     },
     "outputs": [
      {
       "output_type": "stream",
       "stream": "stdout",
       "text": [
        "[1, 0, 2]\n",
        "[3, 'test', 'test2']\n",
        "[1, 2, 'test']\n",
        "['test2', 'test', 3, 2, 0, 1]\n"
       ]
      }
     ],
     "prompt_number": 189
    },
    {
     "cell_type": "markdown",
     "metadata": {
      "slideshow": {
       "slide_type": "slide"
      }
     },
     "source": [
      "Container types: dictionary\n",
      "---------------------------\n",
      "\n",
      "A dictionary (``dict``) is basically an efficient table that **maps keys to\n",
      "values**. It is an **unordered** container:"
     ]
    },
    {
     "cell_type": "code",
     "collapsed": false,
     "input": [
      "phone = {'joe': 554, 'bob': 308}  # using {} creates a dict\n",
      "print phone  # Notice: no order"
     ],
     "language": "python",
     "metadata": {
      "slideshow": {
       "slide_type": "fragment"
      }
     },
     "outputs": [
      {
       "output_type": "stream",
       "stream": "stdout",
       "text": [
        "{'bob': 308, 'joe': 554}\n"
       ]
      }
     ],
     "prompt_number": 190
    },
    {
     "cell_type": "markdown",
     "metadata": {
      "slideshow": {
       "slide_type": "fragment"
      }
     },
     "source": [
      "We can access elements using their **key**"
     ]
    },
    {
     "cell_type": "code",
     "collapsed": false,
     "input": [
      "print phone['joe']"
     ],
     "language": "python",
     "metadata": {
      "slideshow": {
       "slide_type": "fragment"
      }
     },
     "outputs": [
      {
       "output_type": "stream",
       "stream": "stdout",
       "text": [
        "554\n"
       ]
      }
     ],
     "prompt_number": 191
    },
    {
     "cell_type": "markdown",
     "metadata": {
      "slideshow": {
       "slide_type": "fragment"
      }
     },
     "source": [
      "And add new elements (**Notice**: key does not have to be a string)"
     ]
    },
    {
     "cell_type": "code",
     "collapsed": false,
     "input": [
      "phone[0] = 101\n",
      "print phone\n",
      "print phone.keys()    # list with the keys\n",
      "print phone.values()  # list with the values"
     ],
     "language": "python",
     "metadata": {
      "slideshow": {
       "slide_type": "fragment"
      }
     },
     "outputs": [
      {
       "output_type": "stream",
       "stream": "stdout",
       "text": [
        "{0: 101, 'bob': 308, 'joe': 554}\n",
        "[0, 'bob', 'joe']\n",
        "[101, 308, 554]\n"
       ]
      }
     ],
     "prompt_number": 192
    },
    {
     "cell_type": "markdown",
     "metadata": {
      "slideshow": {
       "slide_type": "slide"
      }
     },
     "source": [
      "Basic control flow: Conditional statements\n",
      "------------------------------------------\n",
      "\n",
      "Allow the conditional execution of code"
     ]
    },
    {
     "cell_type": "code",
     "collapsed": false,
     "input": [
      "a = 10\n",
      "if a == 1:\n",
      "    print 1\n",
      "    print 22\n",
      "elif a == 2:\n",
      "    print 2\n",
      "else:\n",
      "    print 'a lot'"
     ],
     "language": "python",
     "metadata": {
      "slideshow": {
       "slide_type": "fragment"
      }
     },
     "outputs": [
      {
       "output_type": "stream",
       "stream": "stdout",
       "text": [
        "a lot\n"
       ]
      }
     ],
     "prompt_number": 193
    },
    {
     "cell_type": "markdown",
     "metadata": {
      "slideshow": {
       "slide_type": "fragment"
      }
     },
     "source": [
      "**Notice**: Blocks are delimited by indentation (4 spaces)"
     ]
    },
    {
     "cell_type": "markdown",
     "metadata": {
      "slideshow": {
       "slide_type": "slide"
      }
     },
     "source": [
      "Basic control flow: Loops\n",
      "-----------------------------\n",
      "\n",
      "Can be used to iterate over lists, dicts, etc. For example:"
     ]
    },
    {
     "cell_type": "code",
     "collapsed": false,
     "input": [
      "for word in ['cool', 'powerful', 'readable']:\n",
      "    print 'Python is %s !!!' % word"
     ],
     "language": "python",
     "metadata": {
      "slideshow": {
       "slide_type": "fragment"
      }
     },
     "outputs": [
      {
       "output_type": "stream",
       "stream": "stdout",
       "text": [
        "Python is cool !!!\n",
        "Python is powerful !!!\n",
        "Python is readable !!!\n"
       ]
      }
     ],
     "prompt_number": 194
    },
    {
     "cell_type": "markdown",
     "metadata": {
      "slideshow": {
       "slide_type": "slide"
      }
     },
     "source": [
      "My first function\n",
      "-----------------\n",
      "\n",
      "Functions are defined using **def**, they allow us to group code for specific tasks."
     ]
    },
    {
     "cell_type": "code",
     "collapsed": false,
     "input": [
      "def disk_area(radius):\n",
      "    area = 3.14 * radius * radius\n",
      "    return area\n",
      "\n",
      "print disk_area(1.0)\n",
      "print disk_area(2.0)"
     ],
     "language": "python",
     "metadata": {
      "slideshow": {
       "slide_type": "fragment"
      }
     },
     "outputs": [
      {
       "output_type": "stream",
       "stream": "stdout",
       "text": [
        "3.14\n",
        "12.56\n"
       ]
      }
     ],
     "prompt_number": 195
    },
    {
     "cell_type": "markdown",
     "metadata": {
      "slideshow": {
       "slide_type": "slide"
      }
     },
     "source": [
      "My second function\n",
      "------------------\n",
      "\n",
      "**Arguments are not copied** when passed to a function (not like with Matlab)\n"
     ]
    },
    {
     "cell_type": "code",
     "collapsed": false,
     "input": [
      "import copy\n",
      "\n",
      "def foo(a):\n",
      "    a.append(1) \n",
      "\n",
      "b = [0]\n",
      "foo(b)\n",
      "print b  # a has been modified !!!"
     ],
     "language": "python",
     "metadata": {
      "slideshow": {
       "slide_type": "fragment"
      }
     },
     "outputs": [
      {
       "output_type": "stream",
       "stream": "stdout",
       "text": [
        "[0, 1]\n"
       ]
      }
     ],
     "prompt_number": 196
    },
    {
     "cell_type": "markdown",
     "metadata": {
      "slideshow": {
       "slide_type": "slide"
      }
     },
     "source": [
      "NumPy: N-dimensional arrays in Python\n",
      "-------------------------------------\n",
      "\n",
      "**NumPy** is:\n",
      "\n",
      "* An extension package to Python for multidimensional arrays (matrices in n-dimensions)\n",
      "* Designed for **efficient** scientific computation\n",
      "* Unlike Python lists, all elements of the array have the same type (int, float, etc)\n",
      "\n",
      "Reference documentation: http://docs.scipy.org/doc/numpy/reference\n",
      "\n",
      "For Matlab users: http://wiki.scipy.org/NumPy_for_Matlab_Users"
     ]
    },
    {
     "cell_type": "markdown",
     "metadata": {
      "slideshow": {
       "slide_type": "slide"
      }
     },
     "source": [
      "NumPy: Creating arrays\n",
      "----------------------"
     ]
    },
    {
     "cell_type": "code",
     "collapsed": false,
     "input": [
      "import numpy as np  # import numpy so we can use it\n",
      "a = np.array([0, 1, 2, 3], dtype=np.float)  # create array\n",
      "print a\n",
      "\n",
      "print a.ndim   # number of dimensions, in Matlab `ndims(a)`\n",
      "print a.shape  # shape, in Matlab `size(a)`\n",
      "print a.dtype  # the data type of the array"
     ],
     "language": "python",
     "metadata": {
      "slideshow": {
       "slide_type": "fragment"
      }
     },
     "outputs": [
      {
       "output_type": "stream",
       "stream": "stdout",
       "text": [
        "[ 0.  1.  2.  3.]\n",
        "1\n",
        "(4,)\n",
        "float64\n"
       ]
      }
     ],
     "prompt_number": 197
    },
    {
     "cell_type": "markdown",
     "metadata": {
      "slideshow": {
       "slide_type": "slide"
      }
     },
     "source": [
      "NumPy: Creating arrays\n",
      "----------------------\n",
      "\n",
      "Arrays can have an arbitrary number of dimensions"
     ]
    },
    {
     "cell_type": "code",
     "collapsed": false,
     "input": [
      "# 2-D array\n",
      "b = np.array([[0, 1, 2], [3, 4, 5]]) # 2 x 3 array\n",
      "print b\n",
      "print b.dtype  # Notice: here the data type is int64\n",
      "print b.shape"
     ],
     "language": "python",
     "metadata": {
      "slideshow": {
       "slide_type": "fragment"
      }
     },
     "outputs": [
      {
       "output_type": "stream",
       "stream": "stdout",
       "text": [
        "[[0 1 2]\n",
        " [3 4 5]]\n",
        "int64\n",
        "(2, 3)\n"
       ]
      }
     ],
     "prompt_number": 198
    },
    {
     "cell_type": "code",
     "collapsed": false,
     "input": [
      "# 3-D\n",
      "c = np.array([[[1], [2]], [[3], [4]]])\n",
      "print c.shape  # in Matlab `size(c)`"
     ],
     "language": "python",
     "metadata": {
      "slideshow": {
       "slide_type": "fragment"
      }
     },
     "outputs": [
      {
       "output_type": "stream",
       "stream": "stdout",
       "text": [
        "(2, 2, 1)\n"
       ]
      }
     ],
     "prompt_number": 199
    },
    {
     "cell_type": "markdown",
     "metadata": {
      "slideshow": {
       "slide_type": "slide"
      }
     },
     "source": [
      "NumPy: Creating arrays\n",
      "----------------------\n",
      "\n",
      "* Common arrays: **ones**, **zeros** and **eye** (like in Matlab)"
     ]
    },
    {
     "cell_type": "code",
     "collapsed": false,
     "input": [
      "a = np.ones((3, 3))\n",
      "print a"
     ],
     "language": "python",
     "metadata": {
      "slideshow": {
       "slide_type": "fragment"
      }
     },
     "outputs": [
      {
       "output_type": "stream",
       "stream": "stdout",
       "text": [
        "[[ 1.  1.  1.]\n",
        " [ 1.  1.  1.]\n",
        " [ 1.  1.  1.]]\n"
       ]
      }
     ],
     "prompt_number": 200
    },
    {
     "cell_type": "code",
     "collapsed": false,
     "input": [
      "b = np.zeros((2, 3))\n",
      "print b"
     ],
     "language": "python",
     "metadata": {
      "slideshow": {
       "slide_type": "fragment"
      }
     },
     "outputs": [
      {
       "output_type": "stream",
       "stream": "stdout",
       "text": [
        "[[ 0.  0.  0.]\n",
        " [ 0.  0.  0.]]\n"
       ]
      }
     ],
     "prompt_number": 201
    },
    {
     "cell_type": "code",
     "collapsed": false,
     "input": [
      "c = np.eye(3)\n",
      "print c"
     ],
     "language": "python",
     "metadata": {
      "slideshow": {
       "slide_type": "fragment"
      }
     },
     "outputs": [
      {
       "output_type": "stream",
       "stream": "stdout",
       "text": [
        "[[ 1.  0.  0.]\n",
        " [ 0.  1.  0.]\n",
        " [ 0.  0.  1.]]\n"
       ]
      }
     ],
     "prompt_number": 202
    },
    {
     "cell_type": "markdown",
     "metadata": {
      "slideshow": {
       "slide_type": "slide"
      }
     },
     "source": [
      "NumPy: Indexing and slicing\n",
      "---------------------------\n",
      "\n",
      "NumPy arrays can be **indexed** and **sliced** like Python lists"
     ]
    },
    {
     "cell_type": "code",
     "collapsed": false,
     "input": [
      "a = np.diag(np.arange(3))\n",
      "print a"
     ],
     "language": "python",
     "metadata": {
      "slideshow": {
       "slide_type": "fragment"
      }
     },
     "outputs": [
      {
       "output_type": "stream",
       "stream": "stdout",
       "text": [
        "[[0 0 0]\n",
        " [0 1 0]\n",
        " [0 0 2]]\n"
       ]
      }
     ],
     "prompt_number": 203
    },
    {
     "cell_type": "code",
     "collapsed": false,
     "input": [
      "print a[1, 1]\n",
      "print a[:,1]  # takes the entire second row!"
     ],
     "language": "python",
     "metadata": {
      "slideshow": {
       "slide_type": "fragment"
      }
     },
     "outputs": [
      {
       "output_type": "stream",
       "stream": "stdout",
       "text": [
        "1\n",
        "[0 1 0]\n"
       ]
      }
     ],
     "prompt_number": 204
    },
    {
     "cell_type": "code",
     "collapsed": false,
     "input": [
      "# slicing\n",
      "a = np.arange(10)\n",
      "print a\n",
      "print a[::2] # every 2nd element\n",
      "print a[-5:] # last 5 elements"
     ],
     "language": "python",
     "metadata": {
      "slideshow": {
       "slide_type": "fragment"
      }
     },
     "outputs": [
      {
       "output_type": "stream",
       "stream": "stdout",
       "text": [
        "[0 1 2 3 4 5 6 7 8 9]\n",
        "[0 2 4 6 8]\n",
        "[5 6 7 8 9]\n"
       ]
      }
     ],
     "prompt_number": 205
    },
    {
     "cell_type": "markdown",
     "metadata": {
      "slideshow": {
       "slide_type": "slide"
      }
     },
     "source": [
      "NumPy: Copies and views\n",
      "-----------------------\n",
      "\n",
      "* A slicing operation creates a **view** on the original array"
     ]
    },
    {
     "cell_type": "code",
     "collapsed": false,
     "input": [
      "a = np.arange(10)\n",
      "print a\n",
      "b = a[::2]\n",
      "print b"
     ],
     "language": "python",
     "metadata": {
      "slideshow": {
       "slide_type": "fragment"
      }
     },
     "outputs": [
      {
       "output_type": "stream",
       "stream": "stdout",
       "text": [
        "[0 1 2 3 4 5 6 7 8 9]\n",
        "[0 2 4 6 8]\n"
       ]
      }
     ],
     "prompt_number": 206
    },
    {
     "cell_type": "markdown",
     "metadata": {
      "slideshow": {
       "slide_type": "fragment"
      }
     },
     "source": [
      "* **The original array is not copied in memory: when modifying the view, the original array is modified as well.**"
     ]
    },
    {
     "cell_type": "code",
     "collapsed": false,
     "input": [
      "b[0] = 100\n",
      "print b\n",
      "print a  # a was modified as well!"
     ],
     "language": "python",
     "metadata": {
      "slideshow": {
       "slide_type": "fragment"
      }
     },
     "outputs": [
      {
       "output_type": "stream",
       "stream": "stdout",
       "text": [
        "[100   2   4   6   8]\n",
        "[100   1   2   3   4   5   6   7   8   9]\n"
       ]
      }
     ],
     "prompt_number": 207
    },
    {
     "cell_type": "markdown",
     "metadata": {
      "slideshow": {
       "slide_type": "slide"
      }
     },
     "source": [
      "NumPy: Copies and views\n",
      "-----------------------\n",
      "\n",
      "If you want a copy you have to specify it:"
     ]
    },
    {
     "cell_type": "code",
     "collapsed": false,
     "input": [
      "a = np.arange(10)\n",
      "b = a[::2].copy()  # force a copy\n",
      "b[0] = 100\n",
      "print b\n",
      "print a"
     ],
     "language": "python",
     "metadata": {
      "slideshow": {
       "slide_type": "fragment"
      }
     },
     "outputs": [
      {
       "output_type": "stream",
       "stream": "stdout",
       "text": [
        "[100   2   4   6   8]\n",
        "[0 1 2 3 4 5 6 7 8 9]\n"
       ]
      }
     ],
     "prompt_number": 208
    },
    {
     "cell_type": "markdown",
     "metadata": {
      "slideshow": {
       "slide_type": "fragment"
      }
     },
     "source": [
      "This behavior can be surprising at first sight...\n",
      "\n",
      "but it allows to **save both memory and time**."
     ]
    },
    {
     "cell_type": "markdown",
     "metadata": {
      "slideshow": {
       "slide_type": "slide"
      }
     },
     "source": [
      "NumPy: File formats\n",
      "-------------------\n",
      "\n",
      "NumPy has its own file format for saving and loading arrays:"
     ]
    },
    {
     "cell_type": "code",
     "collapsed": false,
     "input": [
      "a = np.arange(10)\n",
      "np.save('test.npy', a)\n",
      "a = 0\n",
      "a = np.load('test.npy')\n",
      "print a"
     ],
     "language": "python",
     "metadata": {
      "slideshow": {
       "slide_type": "fragment"
      }
     },
     "outputs": [
      {
       "output_type": "stream",
       "stream": "stdout",
       "text": [
        "[0 1 2 3 4 5 6 7 8 9]\n"
       ]
      }
     ],
     "prompt_number": 209
    },
    {
     "cell_type": "markdown",
     "metadata": {
      "slideshow": {
       "slide_type": "fragment"
      }
     },
     "source": [
      "But Python supports well-known (& more obscure) file formats:\n",
      " \n",
      "* Matlab: ``scipy.io.loadmat``, ``scipy.io.savemat``\n",
      "* HDF5: [``h5py``](http://code.google.com/p/h5py), [``PyTables``](http://pytables.org)\n",
      "* NetCDF: ``scipy.io.netcdf_file``,\n",
      "[``netcdf4-python``](http://code.google.com/p/netcdf4-python)\n",
      "\n",
      "* MatrixMarket: ``scipy.io.mmread``, ``scipy.io.mmread``\n",
      ".. "
     ]
    },
    {
     "cell_type": "markdown",
     "metadata": {
      "slideshow": {
       "slide_type": "slide"
      }
     },
     "source": [
      "NumPy: Linear algebra\n",
      "---------------------\n",
      "\n",
      "Matrix multiplication:"
     ]
    },
    {
     "cell_type": "code",
     "collapsed": false,
     "input": [
      "a = np.triu(np.ones((2, 2)), 1)   # see help(np.triu)\n",
      "print 'a:' + str(a)\n",
      "b = np.diag([1, 2])\n",
      "print 'b:' + str(b)\n",
      "c = np.dot(a, b)  # same as a.dot(b)\n",
      "print 'c:' + str(c)"
     ],
     "language": "python",
     "metadata": {
      "slideshow": {
       "slide_type": "fragment"
      }
     },
     "outputs": [
      {
       "output_type": "stream",
       "stream": "stdout",
       "text": [
        "a:[[ 0.  1.]\n",
        " [ 0.  0.]]\n",
        "b:[[1 0]\n",
        " [0 2]]\n",
        "c:[[ 0.  2.]\n",
        " [ 0.  0.]]\n"
       ]
      }
     ],
     "prompt_number": 210
    },
    {
     "cell_type": "markdown",
     "metadata": {
      "slideshow": {
       "slide_type": "fragment"
      }
     },
     "source": [
      "**WARNING**: Element-wise multiplication vs. matrix multiplication"
     ]
    },
    {
     "cell_type": "code",
     "collapsed": false,
     "input": [
      "print a * b  # element-wise multiplication"
     ],
     "language": "python",
     "metadata": {
      "slideshow": {
       "slide_type": "fragment"
      }
     },
     "outputs": [
      {
       "output_type": "stream",
       "stream": "stdout",
       "text": [
        "[[ 0.  0.]\n",
        " [ 0.  0.]]\n"
       ]
      }
     ],
     "prompt_number": 211
    },
    {
     "cell_type": "markdown",
     "metadata": {
      "slideshow": {
       "slide_type": "slide"
      }
     },
     "source": [
      "NumPy: Linear algebra\n",
      "---------------------\n",
      "\n",
      "Transpose:"
     ]
    },
    {
     "cell_type": "code",
     "collapsed": false,
     "input": [
      "a_t = a.T\n",
      "print a_t"
     ],
     "language": "python",
     "metadata": {
      "slideshow": {
       "slide_type": "fragment"
      }
     },
     "outputs": [
      {
       "output_type": "stream",
       "stream": "stdout",
       "text": [
        "[[ 0.  0.]\n",
        " [ 1.  0.]]\n"
       ]
      }
     ],
     "prompt_number": 212
    },
    {
     "cell_type": "markdown",
     "metadata": {
      "slideshow": {
       "slide_type": "fragment"
      }
     },
     "source": [
      "Note: As with slicing, there is no copy. We can verify this by inspecting the arrays:"
     ]
    },
    {
     "cell_type": "code",
     "collapsed": false,
     "input": [
      "print 'a.flags:\\n' + str(a.flags)\n",
      "print 'a_t.flags:\\n' + str(a_t.flags)"
     ],
     "language": "python",
     "metadata": {
      "slideshow": {
       "slide_type": "fragment"
      }
     },
     "outputs": [
      {
       "output_type": "stream",
       "stream": "stdout",
       "text": [
        "a.flags:\n",
        "  C_CONTIGUOUS : True\n",
        "  F_CONTIGUOUS : False\n",
        "  OWNDATA : True\n",
        "  WRITEABLE : True\n",
        "  ALIGNED : True\n",
        "  UPDATEIFCOPY : False\n",
        "a_t.flags:\n",
        "  C_CONTIGUOUS : False\n",
        "  F_CONTIGUOUS : True\n",
        "  OWNDATA : False\n",
        "  WRITEABLE : True\n",
        "  ALIGNED : True\n",
        "  UPDATEIFCOPY : False\n"
       ]
      }
     ],
     "prompt_number": 213
    },
    {
     "cell_type": "markdown",
     "metadata": {
      "slideshow": {
       "slide_type": "slide"
      }
     },
     "source": [
      "NumPy: Linear algebra\n",
      "---------------------\n",
      "\n",
      "Inverse, systems of linear equations and SVD:"
     ]
    },
    {
     "cell_type": "code",
     "collapsed": false,
     "input": [
      "from numpy import linalg  # OR\n",
      "from scipy import linalg  # even better\n",
      "A = np.triu(np.ones((3, 3)), 0)\n",
      "print 'A:\\n' + str(A)\n",
      "B = linalg.inv(A)\n",
      "C = np.dot(B, A)\n",
      "print 'C:\\n' + str(C)\n",
      "x = linalg.solve(A, [1, 2, 3])  # linear system\n",
      "U, s, V = linalg.svd(A)  # SVD\n",
      "vals = linalg.eigvals(A)  # Eigenvalues"
     ],
     "language": "python",
     "metadata": {
      "slideshow": {
       "slide_type": "fragment"
      }
     },
     "outputs": [
      {
       "output_type": "stream",
       "stream": "stdout",
       "text": [
        "A:\n",
        "[[ 1.  1.  1.]\n",
        " [ 0.  1.  1.]\n",
        " [ 0.  0.  1.]]\n",
        "C:\n",
        "[[ 1.  0.  0.]\n",
        " [ 0.  1.  0.]\n",
        " [ 0.  0.  1.]]\n"
       ]
      }
     ],
     "prompt_number": 214
    },
    {
     "cell_type": "markdown",
     "metadata": {
      "slideshow": {
       "slide_type": "slide"
      }
     },
     "source": [
      "NumPy: Reductions\n",
      "-----------------\n",
      "\n",
      "Computing sums:"
     ]
    },
    {
     "cell_type": "code",
     "collapsed": false,
     "input": [
      "x = np.arange(5)\n",
      "print x\n",
      "print np.sum(x)  # or x.sum()\n",
      "    "
     ],
     "language": "python",
     "metadata": {
      "slideshow": {
       "slide_type": "fragment"
      }
     },
     "outputs": [
      {
       "output_type": "stream",
       "stream": "stdout",
       "text": [
        "[0 1 2 3 4]\n",
        "10\n"
       ]
      }
     ],
     "prompt_number": 215
    },
    {
     "cell_type": "markdown",
     "metadata": {
      "slideshow": {
       "slide_type": "fragment"
      }
     },
     "source": [
      "Sum by rows and by columns:"
     ]
    },
    {
     "cell_type": "code",
     "collapsed": false,
     "input": [
      "x = np.array([[1, 1], [2, 2]])\n",
      "print np.sum(x, axis=0),   # columns (first dimension)\n",
      "print np.sum(x, axis=1)   # rows (second dimension)"
     ],
     "language": "python",
     "metadata": {
      "slideshow": {
       "slide_type": "fragment"
      }
     },
     "outputs": [
      {
       "output_type": "stream",
       "stream": "stdout",
       "text": [
        "[3 3] [2 4]\n"
       ]
      }
     ],
     "prompt_number": 216
    },
    {
     "cell_type": "markdown",
     "metadata": {
      "slideshow": {
       "slide_type": "fragment"
      }
     },
     "source": [
      "Same with ``np.mean, np.argmax, np.argmin, np.min, np.max, np.cumsum, np.sort`` etc."
     ]
    },
    {
     "cell_type": "markdown",
     "metadata": {
      "slideshow": {
       "slide_type": "slide"
      }
     },
     "source": [
      "SciPy\n",
      "-----\n",
      "\n",
      "* ``scipy`` contains various toolboxes dedicated to common issues in scientific computing.\n",
      "\n",
      "* ``scipy`` can be compared to other standard scientific-computing libraries, such as the GSL (GNU Scientific  Library for C and C++), or Matlab's toolboxes.\n",
      "\n",
      "* ``scipy`` is the core package for scientific routines in Python.\n",
      "\n",
      "* ``scipy`` is meant to operate efficiently on ``numpy`` arrays."
     ]
    },
    {
     "cell_type": "markdown",
     "metadata": {
      "slideshow": {
       "slide_type": "slide"
      }
     },
     "source": [
      "SciPy\n",
      "-----\n",
      "\n",
      "* ``scipy.io``  for IO (e.g. read / write Matlab files)\n",
      "* ``scipy.linalg``  for optimized linear algebra\n",
      "* ``scipy.stats``  for basic stats (t-tests, simple anova, ranksum etc.)\n",
      "* ``scipy.signal``  for signal processing\n",
      "* ``scipy.sparse``  for sparse matrices\n",
      "* ``scipy.fftpack``  for FFTs\n",
      "* ``scipy.ndimage``  for N-D image processing (e.g., smoothing)\n",
      "* etc."
     ]
    },
    {
     "cell_type": "markdown",
     "metadata": {
      "slideshow": {
       "slide_type": "slide"
      }
     },
     "source": [
      "SciPy: Example of ``scipy.stats``\n",
      "---------------------------------\n",
      "\n",
      "A T-test to decide whether the two sets of observations have different means:"
     ]
    },
    {
     "cell_type": "code",
     "collapsed": false,
     "input": [
      "from scipy import stats\n",
      "a = np.random.normal(0, 1, size=10)\n",
      "b = np.random.normal(1, 1, size=10)\n",
      "tval, pval = stats.ttest_ind(a, b)\n",
      "print 'T=%0.4f, p=%0.4f' % (tval, pval)"
     ],
     "language": "python",
     "metadata": {
      "slideshow": {
       "slide_type": "fragment"
      }
     },
     "outputs": [
      {
       "output_type": "stream",
       "stream": "stdout",
       "text": [
        "T=-3.0062, p=0.0076\n"
       ]
      }
     ],
     "prompt_number": 217
    },
    {
     "cell_type": "markdown",
     "metadata": {
      "slideshow": {
       "slide_type": "slide"
      }
     },
     "source": [
      "Visualization with Python\n",
      "-------------------------\n",
      "\n",
      "Matplotlib provides functions to create publication-quality figures"
     ]
    },
    {
     "cell_type": "code",
     "collapsed": false,
     "input": [
      "import pylab as pl\n",
      "t = np.linspace(0, 8 * np.pi, 1000)\n",
      "pl.plot(t, np.sin(t))\n",
      "pl.xlabel('$x$')\n",
      "pl.ylabel('$sin(x)$')\n",
      "pl.ylim([-1.1, 1.1])\n",
      "pl.savefig('pylab_demo.pdf')  # natively save pdf, svg, etc."
     ],
     "language": "python",
     "metadata": {
      "slideshow": {
       "slide_type": "fragment"
      }
     },
     "outputs": [
      {
       "metadata": {},
       "output_type": "display_data",
       "png": "[encoded data removed]",
       "text": [
        "<matplotlib.figure.Figure at 0x2aa63d0>"
       ]
      }
     ],
     "prompt_number": 218
    },
    {
     "cell_type": "markdown",
     "metadata": {
      "slideshow": {
       "slide_type": "slide"
      }
     },
     "source": [
      "Visualization with Python\n",
      "-------------------------\n",
      "\n",
      "* 2-D (such as images)"
     ]
    },
    {
     "cell_type": "code",
     "collapsed": false,
     "input": [
      "image = np.random.rand(30, 30)\n",
      "pl.imshow(image)\n",
      "pl.gray()\n",
      "pl.show()"
     ],
     "language": "python",
     "metadata": {
      "slideshow": {
       "slide_type": "fragment"
      }
     },
     "outputs": [
      {
       "metadata": {},
       "output_type": "display_data",
       "png": "[encoded data removed]",
       "text": [
        "<matplotlib.figure.Figure at 0x44f6510>"
       ]
      }
     ],
     "prompt_number": 219
    },
    {
     "cell_type": "markdown",
     "metadata": {
      "slideshow": {
       "slide_type": "slide"
      }
     },
     "source": [
      "Visualization with Python\n",
      "-------------------------\n",
      "\n",
      "* [**Mayavi**](http://mayavi.sourceforge.net) : 3-D visualization\n",
      "\n",
      "<img src=\"http://docs.enthought.com/mayavi/mayavi/_images/example_surface_from_irregular_data.jpg\" width=240>\n",
      "\n",
      "* [**PySurfer**](http://pysurfer.github.com) uses Mayavi to visualize cortical surfaces\n",
      "\n",
      "\n",
      "<div style=\"float: left\">\n",
      "<img src=\"http://pysurfer.github.io/_images/plot_fmri_contours.png\" width=200>\n",
      "<img src=\"http://pysurfer.github.io/_images/plot_labels.png\" width=200>\n",
      "<img src=\"http://pysurfer.github.io/_images/plot_meg_inverse_solution.png\" width=415>\n",
      "</div>\n"
     ]
    },
    {
     "cell_type": "markdown",
     "metadata": {
      "slideshow": {
       "slide_type": "slide"
      }
     },
     "source": [
      "Learn more\n",
      "----------\n",
      "\n",
      "- http://scipy-lectures.github.com\n",
      "- http://www.scipy.org/NumPy_for_Matlab_Users\n",
      "\n",
      "Even more:\n",
      "\n",
      "- Matlab like IDE environment: http://packages.python.org/spyder\n",
      "- Parallel computing: http://packages.python.org/joblib\n",
      "- Cython: write Python get C code http://cython.org"
     ]
    },
    {
     "cell_type": "markdown",
     "metadata": {
      "slideshow": {
       "slide_type": "slide"
      }
     },
     "source": [
      "Python for brain imaging\n",
      "------------------------\n",
      "\n",
      "- [**NiBabel**](http://nipy.sourceforge.net/nibabel) for handling neurimaging file formats\n",
      "- [**Nipype**](http://nipy.sourceforge.net/nipype) Pipeline for SPM, FSL, FreeSurfer, etc.\n",
      "- [**PySurfer**](http://pysurfer.github.com) visualization of FreeSurfer surfaces\n",
      "- [**MNE-Python**](http://martinos.org/mne) MEG and EEG data analysis\n",
      "- [**scikit-learn**](http://scikit-learn.org) Machine learning and statistics\n",
      "- [**NiLearn**](http://nilearn.github.io) Machine learning for neuroimaging (uses scikit-learn)\n",
      "- [**NIPY**](http://www.nipy.org) various neuroimaging packages\n",
      "- etc.\n",
      "\n",
      "A really active community !"
     ]
    }
   ],
   "metadata": {}
  }
 ]
}